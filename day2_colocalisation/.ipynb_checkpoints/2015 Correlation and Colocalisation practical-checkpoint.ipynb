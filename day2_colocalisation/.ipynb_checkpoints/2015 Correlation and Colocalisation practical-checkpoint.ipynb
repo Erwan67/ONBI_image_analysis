{
 "cells": [
  {
   "cell_type": "markdown",
   "metadata": {},
   "source": [
    "# Introduction to Correlation and Colocalisation with Python.\n",
    "\n",
    "## Reading images\n",
    "\n",
    "Dominic Waithe 2015 (c)\n",
    "\n",
    "Exercise: See the similarities between the dot-product and correlation. Apply correlation to images to obtain a metric of colocalisation/similarity. Use colocalisation to assess the quality of registration."
   ]
  },
  {
   "cell_type": "markdown",
   "metadata": {},
   "source": [
    "We start with two lists of numbers (or two vectors or arrays as they are known). Please find the dot product of the two vectors. The dot product formula is a follows:<img src=\"dotProduct.png\">\n",
    "In python there is more than one way to find the dot product of two vectors. It can be performed using 'for loops' or through vectorised notation"
   ]
  },
  {
   "cell_type": "code",
   "execution_count": null,
   "metadata": {
    "collapsed": false
   },
   "outputs": [],
   "source": [
    "#This line is very important: (It turns on the inline visuals!)\n",
    "%pylab inline\n",
    "a = [2,9,32,12,14,6,9,23,4,5,13,6,7,92,21,45];\n",
    "b = [7,21,4,2,92,9,9,6,13,12,45,5,6,23,14,32];\n",
    "\n",
    "#Please calculate the dot product of the vectors 'a' and 'b'.\n",
    "#You may use any method you like. If get stuck. Check:\n",
    "#http://docs.scipy.org/doc/numpy/reference/generated/numpy.dot.html\n",
    "#If you rearrange the numbers in 'b', what sequence will give\n",
    "#the highest dot-product magnitude?\n"
   ]
  },
  {
   "cell_type": "markdown",
   "metadata": {},
   "source": [
    "## The Pearson's test\n",
    "\n",
    "\n",
    "Exercise: See the similarities"
   ]
  },
  {
   "cell_type": "markdown",
   "metadata": {},
   "source": [
    "The above example shows you how two number sequences can be compared with nothing more complicated than by using the dot product. This works as long as the sequences comprise of the same numbers but in a shuffled order.  To compare different sequences with the original we normalise by the magnitude of the vectors. To include this step. We use a more complicated equation:\n",
    "<img src=\"eqn_full.gif\">\n",
    "\n",
    "https://en.wikipedia.org/wiki/Pearson_product-moment_correlation_coefficient\n",
    "https://en.wikipedia.org/wiki/Cross-correlation\n",
    "\n",
    "Hopefully you can see the top of this equation is very similar to the dot-product, except that it is centered on zero (subtraction of the mu, the mean) and the variance is normalised (division by standard deviation).\n",
    "\n",
    "Because the equation is normalised, a perfectly correlated sequence yeilds a rho value of 1.0. A perfectly random comparison yields 0 and two anti-correlated sequences will yield a value of -1.0.\n"
   ]
  },
  {
   "cell_type": "code",
   "execution_count": null,
   "metadata": {
    "collapsed": false
   },
   "outputs": [],
   "source": [
    "#The cross-correlation algorithm is another name for the Pearson's test.\n",
    "#Here it is written in code form and utilising the builtin functions:\n",
    "c = [0,1,2]\n",
    "d = [3,4,5]\n",
    "rho = np.average((c-np.average(c))*(d-np.average(d)))/(np.std(c)*np.std(d))\n",
    "print('rho',round(rho,3))\n",
    "#equally you can write\n",
    "rho = np.dot(c-np.average(c),d-np.average(d))/sqrt(((np.dot(c-np.average(c),c-np.average(c)))*np.dot(d-np.average(d),d-np.average(d))))\n",
    "print('rho',round(rho,3))\n",
    "\n",
    "#Why is the rho for c and d, 1.0?\n",
    "#Edit the variables c and d and find the pearson's value for 'a' and 'b'.\n",
    "#What happens when you correlate 'a' with 'a'?"
   ]
  },
  {
   "cell_type": "code",
   "execution_count": null,
   "metadata": {
    "collapsed": false
   },
   "outputs": [],
   "source": [
    "#Here is an image from the Fiji practical\n",
    "from tifffile import imread as imreadtiff\n",
    "im = imreadtiff('neuron.tif')\n",
    "print('image dimensions',im.shape, ' im dtype:',im.dtype)\n",
    "subplot(2,2,1)\n",
    "imshow(im[0,:,:],cmap='Blues_r')\n",
    "subplot(2,2,2)\n",
    "imshow(im[1,:,:],cmap='Greens_r')\n",
    "subplot(2,2,3)\n",
    "imshow(im[2,:,:],cmap='Greys_r')\n",
    "subplot(2,2,4)\n",
    "imshow(im[3,:,:],cmap='Reds_r')"
   ]
  },
  {
   "cell_type": "markdown",
   "metadata": {
    "collapsed": false
   },
   "source": [
    "## Pearson's comparison of microscopy derived images"
   ]
  },
  {
   "cell_type": "code",
   "execution_count": null,
   "metadata": {
    "collapsed": false
   },
   "outputs": [],
   "source": [
    "a = im[0,:,:].reshape(-1)\n",
    "b = im[3,:,:].reshape(-1)\n",
    "#Calculate the pearson's coefficent (rho) for the image channel 0, 3.\n",
    "#You should hopefully obtain a value 0.829"
   ]
  },
  {
   "cell_type": "code",
   "execution_count": null,
   "metadata": {
    "collapsed": false
   },
   "outputs": [],
   "source": [
    "#from tifffile import imread as imreadtiff\n",
    "im = imreadtiff('composite.tif')\n",
    "\n",
    "#The organisation of this file is not simple. It is also a 16-bit image.\n",
    "print(\"shape of im: \",im.shape,\"bit-depth: \",im.dtype)\n",
    "\n",
    "#We can assess the image data like so.\n",
    "CH0 = im[0,0,:,:]\n",
    "CH1 = im[1,0,:,:]\n",
    "\n",
    "#We can visualise single channels of any bit-depth by visualising as normal.\n",
    "subplot(2,2,1)\n",
    "imshow(CH0,cmap='Reds_r')\n",
    "subplot(2,2,2)\n",
    "imshow(CH1,cmap='Greens_r')\n",
    "subplot(2,2,3)\n",
    "\n",
    "#RGB data have to range between 0 and 255 in each channel and be 8-bit.\n",
    "imRGB = np.zeros((CH0.shape[0],CH0.shape[1],3))\n",
    "imRGB[:,:,0] = CH0/255.0\n",
    "imRGB[:,:,1] = CH1/255.0\n",
    "imshow(255-imRGB.astype(int8))\n",
    "\n",
    "\n",
    "#What is the current Pearson's value for this image?\n"
   ]
  },
  {
   "cell_type": "markdown",
   "metadata": {
    "collapsed": false
   },
   "source": [
    "## Special challenge\n",
    "\n",
    "Exercise: The above image is not registered. Can you devise a way of registering this image using the Pearson's test, as a measure for the similarity of the image in different positions. hint you will need to move one of the images relative to the other and measure the colocalisation in this position. The best localisation will have the highest rho value. Produce an image of your fully registered image.\n"
   ]
  }
 ],
 "metadata": {
  "kernelspec": {
   "display_name": "Python 2",
   "language": "python",
   "name": "python2"
  },
  "language_info": {
   "codemirror_mode": {
    "name": "ipython",
    "version": 2
   },
   "file_extension": ".py",
   "mimetype": "text/x-python",
   "name": "python",
   "nbconvert_exporter": "python",
   "pygments_lexer": "ipython2",
   "version": "2.7.10"
  }
 },
 "nbformat": 4,
 "nbformat_minor": 0
}
