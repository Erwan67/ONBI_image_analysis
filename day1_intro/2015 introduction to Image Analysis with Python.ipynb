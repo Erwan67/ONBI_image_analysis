{
 "cells": [
  {
   "cell_type": "markdown",
   "metadata": {},
   "source": [
    "# Introduction to Image Analysis with Python.\n",
    "\n",
    "## Reading images\n",
    "\n",
    "Exercise: Explore how to open simple tiff images using the PIL library.\n",
    "Dominic Waithe 2015 (c)"
   ]
  },
  {
   "cell_type": "code",
   "execution_count": null,
   "metadata": {
    "collapsed": false
   },
   "outputs": [],
   "source": [
    "#This line is very important: (It turns on inline the visuals!)\n",
    "%pylab inline\n",
    "#This library is one of the libraries one can use for importing tiff files.\n",
    "#For detailed info:http://effbot.org/imagingbook/image.htm\n",
    "from PIL import Image\n",
    "\n",
    "#We import our cell_fluorescent.tif image\n",
    "im = Image.open('cell_fluorescent.tif')\n",
    "\n",
    "\n",
    "#This line converts our image object into a numpy array (matrix).\n",
    "im_array = np.array(im)\n",
    "\n",
    "#This is an inline visual. It displays it after your code.\n",
    "imshow(im_array)\n",
    "#Notice the scale on the side of the image. What happens when you index a range.\n",
    "#imshow(im_array[50:100,:])\n",
    "#Or what happens when you index every fifth pixel:\n",
    "#imshow(im_array[::5,::5],interpolation='nearest')\n",
    "#Notice interpolation. What do you thing this is doing?\n"
   ]
  },
  {
   "cell_type": "code",
   "execution_count": null,
   "metadata": {
    "collapsed": false
   },
   "outputs": [],
   "source": [
    "#Repeat the above step but for the image cell_colony.tif.\n",
    "#Experiment with changing the look-up-table:\n",
    "#imshow(im_array, cmap=\"Reds\")\n",
    "#more colors at: http://matplotlib.org/examples/color/colormaps_reference.html"
   ]
  },
  {
   "cell_type": "markdown",
   "metadata": {},
   "source": [
    "## Reading a multi-page tiff\n",
    "\n",
    "Exercise: Explore how to access different slices and find the dimensions."
   ]
  },
  {
   "cell_type": "code",
   "execution_count": null,
   "metadata": {
    "collapsed": false
   },
   "outputs": [],
   "source": [
    "#Make sure you have previously run %pylab inline at least once.\n",
    "#This library is another one of the libaries we can use to import tiff files\n",
    "#It also works with formats such as .lsm which are tiff's in disguise.\n",
    "from tifffile import imread as imreadtiff\n",
    "\n",
    "#We import our mri-stack.tif image file.\n",
    "im = imread('mri-stack.tif')\n",
    "print('image dimensions',im.shape)\n",
    "\n",
    "#This line converts our image object into a numpy array and then accesses the fifteenth slice.\n",
    "im_slice = im[15,:,:]\n",
    "\n",
    "#This activates a subplot which can be used to display more than one image in a grid.\n",
    "subplot(1,2,1)\n",
    "imshow(im_slice)\n",
    "\n",
    "#We can also assess the raw data directly. \n",
    "im = imreadtiff('mri-stack.tif',key=5)\n",
    "print('image dimensions',im.shape)\n",
    "\n",
    "#This line converts our image object into a numpy array (matrix).\n",
    "im_slice = im\n",
    "\n",
    "#This is an inline visual. It displays it after your code.\n",
    "subplot(1,2,2)\n",
    "imshow(im_slice)\n",
    "\n",
    "\n",
    "#Rerun the code and try and access different slices within the imag stack\n",
    "#How do you think you could extract the number of slices in this file?\n",
    "#Extract the number of slices and print it to screen."
   ]
  },
  {
   "cell_type": "markdown",
   "metadata": {},
   "source": [
    "## <font color='brown'>Reading a multi-page tiff with multiple channels</font>\n",
    "\n",
    "Exercise: Explore the multiple colour channels and how to visualise them."
   ]
  },
  {
   "cell_type": "code",
   "execution_count": null,
   "metadata": {
    "collapsed": false
   },
   "outputs": [],
   "source": [
    "#Make sure you have previously run %pylab inline at least once.\n",
    "#from tifffile import imread as imreadtiff\n",
    "\n",
    "#We import our flybrain.tif image file.\n",
    "im = imreadtiff('flybrain.tif')\n",
    "print('image dimensions',im.shape)\n",
    "\n",
    "#This line converts our image object into a numpy array and then accesses the fifteenth slice.\n",
    "im_slice = im[15,:,:]\n",
    "\n",
    "#This activates a subplot which can be used to display more than one image in a grid.\n",
    "subplot(2,2,1)\n",
    "#Notice imshow can also show three channel images\n",
    "#By default (RGB) if there are three channels.\n",
    "#Note this doesn't work if there are two channels or more than three.\n",
    "imshow(im_slice)\n",
    "subplot(2,2,2)\n",
    "#Plot the individual channels by specifying their index. \n",
    "#Red channel.\n",
    "imshow(im_slice[:,:,0],cmap=\"Greys_r\")\n",
    "subplot(2,2,3)\n",
    "#Blue channel.\n",
    "imshow(im_slice[:,:,1],cmap=\"Greys_r\")\n",
    "subplot(2,2,4)\n",
    "#Green channel.\n",
    "imshow(im_slice[:,:,2],cmap=\"Greys_r\")"
   ]
  },
  {
   "cell_type": "code",
   "execution_count": null,
   "metadata": {
    "collapsed": false
   },
   "outputs": [],
   "source": [
    "#Maximum projection.\n",
    "#Take a look at this:\n",
    "subplot(2,2,1)\n",
    "imshow(np.average(im,0)[:,:,:])\n",
    "subplot(2,2,2)\n",
    "imshow(np.average(im,0)[:,:,0],cmap=\"Greys_r\")\n",
    "subplot(2,2,3)\n",
    "imshow(np.average(im,0)[:,:,1],cmap=\"Greys_r\")\n",
    "#Can you work out what has happened.\n",
    "#What happens when you use np.average instead?\n",
    "#Can you work out why the average RGB image is so bad?"
   ]
  },
  {
   "cell_type": "markdown",
   "metadata": {},
   "source": [
    "## <font color='brown'>Applying a threshold to an image.</font>\n",
    "\n",
    "Exercise: Apply a threshold to an image."
   ]
  },
  {
   "cell_type": "code",
   "execution_count": null,
   "metadata": {
    "collapsed": false
   },
   "outputs": [],
   "source": [
    "#Make sure you have previously run %pylab inline at least once.\n",
    "#from tifffile import imread as imreadtiff\n",
    "im_stack = imreadtiff('mri-stack.tif')\n",
    "im_slice = im_stack[5,:,:]\n",
    "thr = 100;\n",
    "\n",
    "print('image min: ',np.min(im_slice),'image max: ',np.max(im_slice), 'thr: ',thr)\n",
    "#Here we can very easily apply a threshold to the image.\n",
    "binary = im_slice>thr\n",
    "#Now we show the binary mask.\n",
    "subplot(1,2,1)\n",
    "imshow(im_slice)\n",
    "subplot(1,2,2)\n",
    "imshow(binary)\n",
    "\n",
    "#What happens when you change the direction of the sign from '>' to '<'.\n",
    "#Hopefully the result makes sense.\n",
    "\n"
   ]
  },
  {
   "cell_type": "markdown",
   "metadata": {},
   "source": [
    "Dominic Waithe 2015 (c)"
   ]
  },
  {
   "cell_type": "code",
   "execution_count": null,
   "metadata": {
    "collapsed": true
   },
   "outputs": [],
   "source": []
  }
 ],
 "metadata": {
  "kernelspec": {
   "display_name": "Python 2",
   "language": "python",
   "name": "python2"
  },
  "language_info": {
   "codemirror_mode": {
    "name": "ipython",
    "version": 2
   },
   "file_extension": ".py",
   "mimetype": "text/x-python",
   "name": "python",
   "nbconvert_exporter": "python",
   "pygments_lexer": "ipython2",
   "version": "2.7.10"
  }
 },
 "nbformat": 4,
 "nbformat_minor": 0
}
